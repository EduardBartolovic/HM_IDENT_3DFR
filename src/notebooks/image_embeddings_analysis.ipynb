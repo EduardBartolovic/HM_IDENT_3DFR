{
 "cells": [
  {
   "cell_type": "code",
   "execution_count": 8,
   "id": "e390337d-560f-4833-9c36-4ae8d0998d96",
   "metadata": {},
   "outputs": [
    {
     "name": "stdout",
     "output_type": "stream",
     "text": [
      "Requirement already satisfied: plotly in c:\\users\\eduard-desktop\\.conda\\envs\\root2\\lib\\site-packages (5.22.0)\n",
      "Requirement already satisfied: tenacity>=6.2.0 in c:\\users\\eduard-desktop\\.conda\\envs\\root2\\lib\\site-packages (from plotly) (8.3.0)\n",
      "Requirement already satisfied: packaging in c:\\users\\eduard-desktop\\.conda\\envs\\root2\\lib\\site-packages (from plotly) (20.9)\n",
      "Requirement already satisfied: pyparsing>=2.0.2 in c:\\users\\eduard-desktop\\.conda\\envs\\root2\\lib\\site-packages (from packaging->plotly) (2.4.7)\n",
      "Collecting umap-learn\n",
      "  Downloading umap_learn-0.5.6-py3-none-any.whl (85 kB)\n",
      "Collecting pynndescent>=0.5\n",
      "  Downloading pynndescent-0.5.12-py3-none-any.whl (56 kB)\n",
      "Requirement already satisfied: scipy>=1.3.1 in c:\\users\\eduard-desktop\\.conda\\envs\\root2\\lib\\site-packages (from umap-learn) (1.6.2)\n",
      "Requirement already satisfied: numpy>=1.17 in c:\\users\\eduard-desktop\\.conda\\envs\\root2\\lib\\site-packages (from umap-learn) (1.20.1)\n",
      "Requirement already satisfied: tqdm in c:\\users\\eduard-desktop\\.conda\\envs\\root2\\lib\\site-packages (from umap-learn) (4.59.0)\n",
      "Requirement already satisfied: numba>=0.51.2 in c:\\users\\eduard-desktop\\.conda\\envs\\root2\\lib\\site-packages (from umap-learn) (0.53.1)\n",
      "Requirement already satisfied: scikit-learn>=0.22 in c:\\users\\eduard-desktop\\.conda\\envs\\root2\\lib\\site-packages (from umap-learn) (0.24.1)\n",
      "Requirement already satisfied: setuptools in c:\\users\\eduard-desktop\\.conda\\envs\\root2\\lib\\site-packages (from numba>=0.51.2->umap-learn) (52.0.0.post20210125)\n",
      "Requirement already satisfied: llvmlite<0.37,>=0.36.0rc1 in c:\\users\\eduard-desktop\\.conda\\envs\\root2\\lib\\site-packages (from numba>=0.51.2->umap-learn) (0.36.0)\n",
      "Requirement already satisfied: joblib>=0.11 in c:\\users\\eduard-desktop\\.conda\\envs\\root2\\lib\\site-packages (from pynndescent>=0.5->umap-learn) (1.0.1)\n",
      "Requirement already satisfied: threadpoolctl>=2.0.0 in c:\\users\\eduard-desktop\\.conda\\envs\\root2\\lib\\site-packages (from scikit-learn>=0.22->umap-learn) (2.1.0)\n",
      "Installing collected packages: pynndescent, umap-learn\n",
      "Successfully installed pynndescent-0.5.12 umap-learn-0.5.6\n"
     ]
    }
   ],
   "source": [
    "! pip install plotly\n",
    "! pip install umap-learn"
   ]
  },
  {
   "cell_type": "code",
   "execution_count": 26,
   "id": "296df2dc-8059-4178-8ee5-d0228785f34c",
   "metadata": {},
   "outputs": [],
   "source": [
    "import numpy as np\n",
    "import os"
   ]
  },
  {
   "cell_type": "code",
   "execution_count": 29,
   "id": "35107f98-2961-419b-a66b-08e2a76f6b34",
   "metadata": {},
   "outputs": [],
   "source": [
    "def read_embeddings(artifact_uri, dataset):\n",
    "    \n",
    "    print(os.path.join(artifact_uri, f'{dataset}_enrolled_embeddings.npy'))\n",
    "    enrolled_embeddings = np.load(os.path.join(artifact_uri, f'{dataset}_enrolled_embeddings.npy'))\n",
    "    enrolled_labels = np.load(os.path.join(artifact_uri, f'{dataset}_enrolled_labels.npy'))\n",
    "    enrolled_scan_ids = np.load(os.path.join(artifact_uri, f'{dataset}_enrolled_scan_ids.npy'))\n",
    "    enrolled_perspectives = np.load(os.path.join(artifact_uri, f'{dataset}_enrolled_perspectives.npy'))\n",
    "    query_embeddings = np.load(os.path.join(artifact_uri, f'{dataset}_query_embeddings.npy'))\n",
    "    query_labels = np.load(os.path.join(artifact_uri, f'{dataset}_query_labels.npy'))\n",
    "    query_scan_ids = np.load(os.path.join(artifact_uri, f'{dataset}_query_scan_ids.npy'))\n",
    "    query_perspectives = np.load(os.path.join(artifact_uri, f'{dataset}_query_perspectives.npy'))\n",
    "    distances = np.load(os.path.join(artifact_uri, f'{dataset}_distances.npy'))\n",
    "    \n",
    "    \n",
    "    return (enrolled_embeddings, enrolled_labels, enrolled_scan_ids, enrolled_perspectives, \n",
    "            query_embeddings, query_labels, query_scan_ids, query_perspectives, distances)"
   ]
  },
  {
   "cell_type": "code",
   "execution_count": 1,
   "id": "23e02ef7-dfd2-415c-b06a-4a782871e713",
   "metadata": {},
   "outputs": [
    {
     "ename": "NameError",
     "evalue": "name 'read_embeddings' is not defined",
     "output_type": "error",
     "traceback": [
      "\u001b[1;31m---------------------------------------------------------------------------\u001b[0m",
      "\u001b[1;31mNameError\u001b[0m                                 Traceback (most recent call last)",
      "\u001b[1;32m<ipython-input-1-efd76d10e757>\u001b[0m in \u001b[0;36m<module>\u001b[1;34m\u001b[0m\n\u001b[0;32m      2\u001b[0m \u001b[0martifact_uri\u001b[0m \u001b[1;33m=\u001b[0m \u001b[1;34m\"F:\\\\Face\\\\HM_IDENT_3DFR\\\\src\\\\log\\\\mlruns\\\\633479264740573887\\\\3926b563c310467a81f67ef50d22af6d\\\\artifacts\\\\embeddings\"\u001b[0m\u001b[1;33m\u001b[0m\u001b[1;33m\u001b[0m\u001b[0m\n\u001b[0;32m      3\u001b[0m \u001b[0mdataset\u001b[0m \u001b[1;33m=\u001b[0m \u001b[1;34m'rgb_bellus'\u001b[0m\u001b[1;33m\u001b[0m\u001b[1;33m\u001b[0m\u001b[0m\n\u001b[1;32m----> 4\u001b[1;33m \u001b[0menrolled_embeddings\u001b[0m\u001b[1;33m,\u001b[0m \u001b[0menrolled_labels\u001b[0m\u001b[1;33m,\u001b[0m \u001b[0menrolled_scan_ids\u001b[0m\u001b[1;33m,\u001b[0m \u001b[0menrolled_perspectives\u001b[0m\u001b[1;33m,\u001b[0m \u001b[0mquery_embeddings\u001b[0m\u001b[1;33m,\u001b[0m \u001b[0mquery_labels\u001b[0m\u001b[1;33m,\u001b[0m \u001b[0mquery_scan_ids\u001b[0m\u001b[1;33m,\u001b[0m \u001b[0mquery_perspectives\u001b[0m\u001b[1;33m,\u001b[0m \u001b[0mdistances\u001b[0m \u001b[1;33m=\u001b[0m \u001b[0mread_embeddings\u001b[0m\u001b[1;33m(\u001b[0m\u001b[0martifact_uri\u001b[0m\u001b[1;33m,\u001b[0m \u001b[0mdataset\u001b[0m\u001b[1;33m)\u001b[0m\u001b[1;33m\u001b[0m\u001b[1;33m\u001b[0m\u001b[0m\n\u001b[0m\u001b[0;32m      5\u001b[0m \u001b[0mprint\u001b[0m\u001b[1;33m(\u001b[0m\u001b[0menrolled_embeddings\u001b[0m\u001b[1;33m)\u001b[0m\u001b[1;33m\u001b[0m\u001b[1;33m\u001b[0m\u001b[0m\n",
      "\u001b[1;31mNameError\u001b[0m: name 'read_embeddings' is not defined"
     ]
    }
   ],
   "source": [
    "#artifact_uri = \"F:\\\\Face\\\\HM_IDENT_3DFR\\\\src\\\\log\\\\mlruns\\\\633479264740573887\\\\7850d734dc134028ba19e52e3f37a601\\\\artifacts\\\\embeddings\"\n",
    "artifact_uri = \"F:\\\\Face\\\\HM_IDENT_3DFR\\\\src\\\\log\\\\mlruns\\\\633479264740573887\\\\3926b563c310467a81f67ef50d22af6d\\\\artifacts\\\\embeddings\"\n",
    "dataset = 'rgb_bellus'\n",
    "enrolled_embeddings, enrolled_labels, enrolled_scan_ids, enrolled_perspectives, query_embeddings, query_labels, query_scan_ids, query_perspectives, distances = read_embeddings(artifact_uri, dataset)\n",
    "print(enrolled_embeddings)"
   ]
  },
  {
   "cell_type": "code",
   "execution_count": null,
   "id": "19827c15-f0e1-4cae-a9d2-3cbfd8941bc2",
   "metadata": {},
   "outputs": [],
   "source": []
  },
  {
   "cell_type": "code",
   "execution_count": null,
   "id": "8a7d8410-4b29-41d1-b2ab-7dee5b9530d1",
   "metadata": {},
   "outputs": [],
   "source": [
    "from sklearn.manifold import TSNE\n",
    "import time\n",
    "\n",
    "start = time.time()\n",
    "tsne = TSNE(n_components = 3, random_state=0)\n",
    "projections = tsne.fit_transform(enrolled_embeddings)\n",
    "end = time.time()\n",
    "print(f\"generating projections with T-SNE took: {(end-start):.2f} sec\")"
   ]
  },
  {
   "cell_type": "code",
   "execution_count": null,
   "id": "95035257-0e8b-4af9-9698-4508142ad7c6",
   "metadata": {},
   "outputs": [],
   "source": [
    "import plotly.graph_objects as go\n",
    "import plotly.express as px\n",
    "import numpy as np\n",
    "\n",
    "from typing import Dict\n",
    "from pathlib import Path\n",
    "from IPython.core.display import display, HTML\n",
    "\n",
    "from plotly.offline import init_notebook_mode, iplot\n",
    "from plotly.graph_objs import *\n",
    "init_notebook_mode(connected=True)\n",
    "\n",
    "\n",
    "def display_projections(\n",
    "    labels: np.ndarray,\n",
    "    projections: np.ndarray,\n",
    "    #image_paths: np.ndarray,\n",
    "    #image_data_uris: Dict[str, str],\n",
    "    show_legend: bool = False,\n",
    "    show_markers_with_text: bool = True\n",
    ") -> None:\n",
    "    # Create a separate trace for each unique label\n",
    "    unique_labels = np.unique(labels)\n",
    "    traces = []\n",
    "    for unique_label in unique_labels:\n",
    "        mask = labels == unique_label\n",
    "        #customdata_masked = image_paths[mask]\n",
    "        trace = go.Scatter3d(\n",
    "            x=projections[mask][:, 0],\n",
    "            y=projections[mask][:, 1],\n",
    "            z=projections[mask][:, 2],\n",
    "            mode='markers+text' if show_markers_with_text else 'markers',\n",
    "            text=labels[mask],\n",
    "            #customdata=customdata_masked,\n",
    "            name=str(unique_label),\n",
    "            marker=dict(size=8),\n",
    "            hovertemplate=\"<b>class: %{text}</b><br>path: %{customdata}<extra></extra>\"\n",
    "        )\n",
    "        traces.append(trace)\n",
    "\n",
    "    # Create the 3D scatter plot\n",
    "    fig = go.Figure(data=traces)\n",
    "    fig.update_layout(\n",
    "        scene=dict(xaxis_title='X', yaxis_title='Y', zaxis_title='Z'),\n",
    "        width=1000,\n",
    "        height=1000,\n",
    "        showlegend=show_legend\n",
    "    )\n",
    "\n",
    "    # Convert the chart to an HTML div string and add an ID to the div\n",
    "    plotly_div = fig.to_html(full_html=False, include_plotlyjs=False, div_id=\"scatter-plot-3d\")\n",
    "\n",
    "\n",
    "    # Create an HTML template including the chart div and JavaScript code\n",
    "    html_template = f\"\"\"\n",
    "    <!DOCTYPE html>\n",
    "    <html>\n",
    "        <head>\n",
    "            <script src=\"https://cdn.plot.ly/plotly-latest.min.js\"></script>\n",
    "            <style>\n",
    "                #image-container {{\n",
    "                    position: fixed;\n",
    "                    top: 0;\n",
    "                    left: 0;\n",
    "                    width: 200px;\n",
    "                    height: 200px;\n",
    "                    padding: 5px;\n",
    "                    border: 1px solid #ccc;\n",
    "                    background-color: white;\n",
    "                    z-index: 1000;\n",
    "                    box-sizing: border-box;\n",
    "                    display: flex;\n",
    "                    align-items: center;\n",
    "                    justify-content: center;\n",
    "                    text-align: center;\n",
    "                }}\n",
    "                #image-display {{\n",
    "                    width: 100%;\n",
    "                    height: 100%;\n",
    "                    object-fit: contain;\n",
    "                }}\n",
    "            </style>\n",
    "        </head>        \n",
    "        <body>\n",
    "            {plotly_div}\n",
    "        </body>\n",
    "    </html>\n",
    "    \"\"\"\n",
    "\n",
    "    # Display the HTML template in the Jupyter Notebook\n",
    "    display(HTML(html_template))"
   ]
  },
  {
   "cell_type": "code",
   "execution_count": null,
   "id": "ded54328-7d97-4b81-b6e5-268d996474b2",
   "metadata": {},
   "outputs": [],
   "source": [
    "display_projections(\n",
    "    labels=enrolled_labels,\n",
    "    projections=projections\n",
    "    #image_paths=image_paths,\n",
    "    #image_data_uris=image_data_uris\n",
    ")"
   ]
  },
  {
   "cell_type": "code",
   "execution_count": null,
   "id": "cb33a29c-e5b2-4bd7-b28b-86ccf027b3d7",
   "metadata": {},
   "outputs": [],
   "source": [
    "import umap\n",
    "\n",
    "start = time.time()\n",
    "projections = umap.UMAP(n_components=3).fit_transform(enrolled_embeddings)\n",
    "end = time.time()\n",
    "print(f\"generating projections with UMAP took: {(end-start):.2f} sec\")\n",
    "\n",
    "display_projections(\n",
    "    labels=enrolled_labels,\n",
    "    projections=projections\n",
    ")"
   ]
  },
  {
   "cell_type": "code",
   "execution_count": null,
   "id": "82de0adb-c6b6-40cf-b6d0-529899bdfc17",
   "metadata": {},
   "outputs": [],
   "source": [
    "def normalize(vec: np.ndarray):\n",
    "    return vec / np.linalg.norm(vec, axis=1, keepdims=True)"
   ]
  },
  {
   "cell_type": "code",
   "execution_count": null,
   "id": "e8f06bda-cb71-4ee9-ab08-9f74b0e453e1",
   "metadata": {},
   "outputs": [],
   "source": []
  },
  {
   "cell_type": "code",
   "execution_count": null,
   "id": "2626704d-1dc3-4c38-8257-dfa2f53eb6f5",
   "metadata": {},
   "outputs": [],
   "source": [
    "import numpy as np\n",
    "import plotly.graph_objects as go\n",
    "import pandas as pd\n",
    "from sklearn.preprocessing import normalize\n",
    "\n",
    "# Sample Data (for illustration, replace with your actual data)\n",
    "# enrolled_embeddings = np.random.rand(10, 128)  # Replace with your actual embeddings\n",
    "# enrolled_labels = ['Label1', 'Label2', 'Label1', 'Label3', 'Label2', 'Label1', 'Label3', 'Label2', 'Label3', 'Label1']  # Replace with your actual labels\n",
    "\n",
    "# Normalize embeddings\n",
    "normalized_embeddings = normalize(enrolled_embeddings)\n",
    "\n",
    "# Combine embeddings and labels into a DataFrame\n",
    "df = pd.DataFrame(normalized_embeddings)\n",
    "df['label'] = enrolled_labels\n",
    "\n",
    "# Extract the sorted embeddings and labels\n",
    "sorted_df = df.sort_values(by='label').reset_index(drop=True)\n",
    "sorted_embeddings = sorted_df.drop(columns='label').values\n",
    "sorted_labels = sorted_df['label'].values\n",
    "\n",
    "# Compute cosine similarity matrix for sorted embeddings\n",
    "cosine_sim_matrix = np.dot(sorted_embeddings, sorted_embeddings.T)\n",
    "\n",
    "# Prepare unique labels for the axis\n",
    "unique_labels = []\n",
    "unique_tickvals = []\n",
    "for idx, label in enumerate(sorted_labels):\n",
    "    if label not in unique_labels:\n",
    "        unique_labels.append(label)\n",
    "        unique_tickvals.append(idx)\n",
    "\n",
    "# Plot the heatmap\n",
    "heatmap = go.Heatmap(z=cosine_sim_matrix, colorscale='Viridis')\n",
    "\n",
    "# Setup figure with labels on the axes\n",
    "fig = go.Figure(data=heatmap)\n",
    "\n",
    "fig.update_layout(\n",
    "    title=\"Cosine Similarity Matrix\",\n",
    "    xaxis_title=\"Image Index\",\n",
    "    yaxis_title=\"Image Index\",\n",
    "    font=dict(size=14),\n",
    "    width=1000,\n",
    "    height=1000,\n",
    "    margin=dict(t=100, r=100, b=100, l=100),\n",
    "    xaxis=dict(\n",
    "        tickmode='array',\n",
    "        tickvals=unique_tickvals,\n",
    "        ticktext=unique_labels,\n",
    "        tickangle=90\n",
    "    ),\n",
    "    yaxis=dict(\n",
    "        tickmode='array',\n",
    "        tickvals=unique_tickvals,\n",
    "        ticktext=unique_labels\n",
    "    ),\n",
    ")\n",
    "\n",
    "fig.show()"
   ]
  },
  {
   "cell_type": "code",
   "execution_count": null,
   "id": "2f2544d1-25ba-46b1-b581-217a67fd8707",
   "metadata": {},
   "outputs": [],
   "source": []
  },
  {
   "cell_type": "code",
   "execution_count": null,
   "id": "aafb91c3-d9b4-4654-9e64-085757357da6",
   "metadata": {},
   "outputs": [],
   "source": []
  },
  {
   "cell_type": "code",
   "execution_count": null,
   "id": "c473baa8-b130-4b5d-9c9d-bb5ed8271c5f",
   "metadata": {},
   "outputs": [],
   "source": []
  },
  {
   "cell_type": "code",
   "execution_count": null,
   "id": "11faad04-e936-48f6-864b-7e826d58ee8d",
   "metadata": {},
   "outputs": [],
   "source": []
  },
  {
   "cell_type": "code",
   "execution_count": null,
   "id": "e4ca1086-a530-442b-ace9-77b483281ca5",
   "metadata": {},
   "outputs": [],
   "source": []
  },
  {
   "cell_type": "code",
   "execution_count": null,
   "id": "8c71ae0d-bab2-458a-be87-153e135ddc5f",
   "metadata": {},
   "outputs": [],
   "source": []
  },
  {
   "cell_type": "code",
   "execution_count": null,
   "id": "16660d85-ced7-4445-a1ec-3f7adf861d79",
   "metadata": {},
   "outputs": [],
   "source": []
  },
  {
   "cell_type": "code",
   "execution_count": null,
   "id": "5a72c3d2-a1a7-42c0-a228-088466d4589e",
   "metadata": {},
   "outputs": [],
   "source": []
  },
  {
   "cell_type": "code",
   "execution_count": null,
   "id": "a0bcf7a6-ed4c-4939-818e-9fef9ff59d82",
   "metadata": {},
   "outputs": [],
   "source": []
  },
  {
   "cell_type": "code",
   "execution_count": null,
   "id": "3da16879-44c5-4460-a66e-f6d0eacc7c47",
   "metadata": {},
   "outputs": [],
   "source": []
  },
  {
   "cell_type": "code",
   "execution_count": null,
   "id": "12ea07ef-842c-4955-95f8-f7785f4f5660",
   "metadata": {},
   "outputs": [],
   "source": []
  },
  {
   "cell_type": "code",
   "execution_count": null,
   "id": "58feb27d-797d-45df-b0b0-551ebd8e5742",
   "metadata": {},
   "outputs": [],
   "source": []
  },
  {
   "cell_type": "code",
   "execution_count": null,
   "id": "b54ca27d-09ee-44ab-9180-2bf29b125a6b",
   "metadata": {},
   "outputs": [],
   "source": []
  }
 ],
 "metadata": {
  "kernelspec": {
   "display_name": "Python 3",
   "language": "python",
   "name": "python3"
  },
  "language_info": {
   "codemirror_mode": {
    "name": "ipython",
    "version": 3
   },
   "file_extension": ".py",
   "mimetype": "text/x-python",
   "name": "python",
   "nbconvert_exporter": "python",
   "pygments_lexer": "ipython3",
   "version": "3.8.8"
  }
 },
 "nbformat": 4,
 "nbformat_minor": 5
}
